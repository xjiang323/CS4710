{
 "cells": [
  {
   "cell_type": "code",
   "execution_count": 1,
   "metadata": {},
   "outputs": [
    {
     "name": "stdout",
     "output_type": "stream",
     "text": [
      "Please enter the first permutation: cefdab\n",
      "Please enter the second permutation: cfebad\n",
      "Hamming distance is 4\n",
      "Kendall's diatance is 4\n",
      "Spearman distance is 6\n"
     ]
    }
   ],
   "source": [
    "p1 = input(\"Please enter the first permutation: \")\n",
    "if len(p1) > 26 :\n",
    "    exit(0)\n",
    "if p1.isalpha() != True:\n",
    "    exit(0)\n",
    "hhh = []\n",
    "for i in p1:\n",
    "    if i in hhh:\n",
    "        exit(0)\n",
    "    else:\n",
    "        hhh.append(i)\n",
    "\n",
    "p2 = input(\"Please enter the second permutation: \")\n",
    "if len(p2) > 26 :\n",
    "    exit(0)\n",
    "if p1.isalpha() != True:\n",
    "     exit(0)\n",
    "fff = []\n",
    "for i in p2:\n",
    "    if i in fff:\n",
    "        exit(0)\n",
    "    else:\n",
    "        fff.append(i)\n",
    "\n",
    "hhh.sort()\n",
    "fff.sort()\n",
    "if hhh != fff:\n",
    "    exit(0)\n",
    "else:\n",
    "    pass\n",
    "\n",
    "count = 0\n",
    "for i in range(len(p1)):\n",
    "    if p1[i] == p2[i]:\n",
    "        pass\n",
    "    else:\n",
    "        count = count + 1\n",
    "print(\"Hamming distance is \" + str(count))\n",
    "\n",
    "pl1 = list(p1)\n",
    "pl2 = list(p2)\n",
    "\n",
    "arr = []\n",
    "for i in range(len(pl1)):\n",
    "    for j in range(i,len(pl1)):\n",
    "        if pl2.index(pl1[i]) > pl2.index(pl1[j]):\n",
    "            tmp = []\n",
    "            tmp.append(pl1[i])\n",
    "            tmp.append(pl1[j])\n",
    "            arr.append(tmp)\n",
    "print(\"Kendall's diatance is \" + str(len(arr)))\n",
    "\n",
    "sum_num = 0\n",
    "for item in pl1:\n",
    "    dis = abs(pl1.index(item)-pl2.index(item))\n",
    "    sum_num += dis\n",
    "print(\"Spearman distance is \" + str(sum_num))"
   ]
  },
  {
   "cell_type": "code",
   "execution_count": 1,
   "metadata": {},
   "outputs": [
    {
     "name": "stdout",
     "output_type": "stream",
     "text": [
      "Please enter file name: DNA-sequences.txt\n",
      "A  :  ['2/5', '0', '0', '0', '1/5', '1/5', '0', '3/5', '1/5', '0', '1/5', '2/5', '1/5', '1/5', '1/5', '1/5', '0', '2/5', '3/5', '1/5']\n",
      "T  :  ['1/5', '4/5', '2/5', '0', '0', '3/5', '1/5', '2/5', '1/5', '0', '1/5', '1/5', '3/5', '2/5', '2/5', '3/5', '1/5', '1/5', '0', '2/5']\n",
      "G  :  ['0', '1/5', '3/5', '3/5', '4/5', '1/5', '3/5', '0', '1/5', '3/5', '2/5', '2/5', '1/5', '2/5', '1/5', '1/5', '2/5', '1/5', '2/5', '2/5']\n",
      "C  :  ['2/5', '0', '0', '2/5', '0', '0', '1/5', '0', '2/5', '2/5', '1/5', '0', '0', '0', '1/5', '0', '2/5', '1/5', '0', '0']\n"
     ]
    }
   ],
   "source": [
    "fname = input(\"Please enter file name: \")\n",
    "fhand = open(fname)\n",
    "\n",
    "arr = []\n",
    "for line in fhand:\n",
    "    line = line.rstrip()\n",
    "    tmp = list(line)\n",
    "    col = len(tmp)\n",
    "    arr.append(tmp)\n",
    "row = len(arr)\n",
    "\n",
    "ref = ['A','T','G','C']\n",
    "final_arr = []\n",
    "for n in range(4): # Loop through ATGC\n",
    "    freq_lst = []\n",
    "    for i in range(col):\n",
    "        count = 0\n",
    "        for j in range(row):\n",
    "            if arr[j][i] == ref[n]:\n",
    "                count = count + 1\n",
    "        if count == 0:\n",
    "            string = '0'\n",
    "        else:\n",
    "            string = str(count) + '/' + str(row)\n",
    "        freq_lst.append(string)\n",
    "    print(ref[n], \" : \", freq_lst)\n"
   ]
  },
  {
   "cell_type": "code",
   "execution_count": null,
   "metadata": {},
   "outputs": [],
   "source": []
  }
 ],
 "metadata": {
  "kernelspec": {
   "display_name": "Python 3",
   "language": "python",
   "name": "python3"
  },
  "language_info": {
   "codemirror_mode": {
    "name": "ipython",
    "version": 3
   },
   "file_extension": ".py",
   "mimetype": "text/x-python",
   "name": "python",
   "nbconvert_exporter": "python",
   "pygments_lexer": "ipython3",
   "version": "3.6.5"
  }
 },
 "nbformat": 4,
 "nbformat_minor": 2
}
