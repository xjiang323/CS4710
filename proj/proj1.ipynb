{
 "cells": [
  {
   "cell_type": "code",
   "execution_count": 1,
   "metadata": {},
   "outputs": [
    {
     "name": "stdout",
     "output_type": "stream",
     "text": [
      "Enter a string: jfkdjkfsjlk\n",
      "j\n"
     ]
    }
   ],
   "source": [
    "input_string = input('Enter a string: ')\n",
    "\n",
    "hhh=[]\n",
    "for i in input_string:\n",
    "    if i in hhh:\n",
    "        print(i)\n",
    "        break\n",
    "    else:\n",
    "        hhh.append(i)"
   ]
  },
  {
   "cell_type": "code",
   "execution_count": 2,
   "metadata": {},
   "outputs": [
    {
     "name": "stdout",
     "output_type": "stream",
     "text": [
      "Enter a string: aeioudklsls\n",
      "a\n",
      "e\n",
      "i\n",
      "o\n",
      "u\n",
      "5\n"
     ]
    }
   ],
   "source": [
    "fhand = input('Enter a string: ')\n",
    "count = 0\n",
    "\n",
    "vowels = set('aeiou')\n",
    "for i in fhand:\n",
    "    if i in vowels:\n",
    "        count = count + 1\n",
    "        print(i)\n",
    "    else:\n",
    "        pass\n",
    "print(count)"
   ]
  },
  {
   "cell_type": "code",
   "execution_count": 3,
   "metadata": {},
   "outputs": [
    {
     "name": "stdout",
     "output_type": "stream",
     "text": [
      "Enter a string: flksjlkfjslfjsl\n",
      "Enter a another string: rieorioeiroei\n",
      "ksjlkfjslfjsleorioeiroei\n"
     ]
    }
   ],
   "source": [
    "string1 = input('Enter a string: ')\n",
    "string2 = input('Enter a another string: ')\n",
    "\n",
    "if len(string1) < 2 or len(string2) < 2:\n",
    "    raise Exception('The length of string should be longer than 2.')\n",
    "\n",
    "s1 = string1[2:]\n",
    "s2 = string2[2:]\n",
    "\n",
    "print(s1+s2)"
   ]
  },
  {
   "cell_type": "code",
   "execution_count": 4,
   "metadata": {},
   "outputs": [
    {
     "name": "stdout",
     "output_type": "stream",
     "text": [
      "Enter a string: aieusl\n",
      "pos(a) =1\n",
      "pos(e) =3\n",
      "pos(i) =2\n",
      "pos(l) =6\n",
      "pos(s) =5\n",
      "pos(u) =4\n"
     ]
    }
   ],
   "source": [
    "row = input('Enter a string: ')\n",
    "string = str(row)\n",
    "\n",
    "dict = {}\n",
    "for index,value in enumerate(string):\n",
    "    dict[value]=index+1\n",
    "\n",
    "items = dict.items()\n",
    "items = sorted(items)\n",
    "for key,value in items:\n",
    "    print(\"pos(\" + str(key) + \") =\" + str(value))"
   ]
  },
  {
   "cell_type": "code",
   "execution_count": 5,
   "metadata": {},
   "outputs": [
    {
     "name": "stdout",
     "output_type": "stream",
     "text": [
      "Enter a list: aiueopq\n",
      "pos(a) =1\n",
      "pos(e) =4\n",
      "pos(i) =2\n",
      "pos(o) =5\n",
      "pos(p) =6\n",
      "pos(q) =7\n",
      "pos(u) =3\n"
     ]
    }
   ],
   "source": [
    "string = input('Enter a list: ')\n",
    "lst = list(string)\n",
    "\n",
    "dict = {}\n",
    "for index,value in enumerate(lst):\n",
    "    dict[value]=index+1\n",
    "\n",
    "items = dict.items()\n",
    "items = sorted(items)\n",
    "for key,value in items:\n",
    "    print(\"pos(\" + str(key) + \") =\" + str(value))"
   ]
  },
  {
   "cell_type": "code",
   "execution_count": 6,
   "metadata": {},
   "outputs": [
    {
     "name": "stdout",
     "output_type": "stream",
     "text": [
      "Enter a string: isoakajf\n",
      "Enter another string: jkiaoa\n",
      "True\n"
     ]
    }
   ],
   "source": [
    "string1 = input('Enter a string: ')\n",
    "string2 = input('Enter another string: ')\n",
    "\n",
    "# the time complexity of my algorithm is O(m+n)\n",
    "\n",
    "def isCommenNum(s1,s2):\n",
    "    set2 = set(s2)\n",
    "    for i in s1:\n",
    "        if i in set2:\n",
    "            print('True')\n",
    "            return\n",
    "        else:\n",
    "            pass\n",
    "\n",
    "isCommenNum(string1,string2)"
   ]
  },
  {
   "cell_type": "code",
   "execution_count": 7,
   "metadata": {},
   "outputs": [
    {
     "name": "stdout",
     "output_type": "stream",
     "text": [
      "Enter a number.Input empty to quit.12\n",
      "Enter a number.Input empty to quit.23\n",
      "Enter a number.Input empty to quit.4\n",
      "Enter a number.Input empty to quit.45\n",
      "Enter a number.Input empty to quit.56\n",
      "Enter a number.Input empty to quit.\n",
      "['23', '12', '45', '4', '56']\n"
     ]
    }
   ],
   "source": [
    "lst = []\n",
    "while True:\n",
    "    string = input('Enter a number.Input empty to quit.')\n",
    "    if len(string) != 0:\n",
    "        lst.append(string)\n",
    "    else:\n",
    "        break\n",
    "\n",
    "if len(lst) % 2 == 1:\n",
    "    tmp = lst[:-1:2]\n",
    "    lst[:-1:2] = lst[1::2]\n",
    "    lst[1::2] = tmp\n",
    "else:\n",
    "    tmp = lst[::2]\n",
    "    lst[::2] = lst[1::2]\n",
    "    lst[1::2] = tmp\n",
    "print(lst)"
   ]
  },
  {
   "cell_type": "code",
   "execution_count": 8,
   "metadata": {},
   "outputs": [
    {
     "name": "stdout",
     "output_type": "stream",
     "text": [
      "0 0 0 0 0 0 0 0 0 0 \n",
      "0 1 2 3 4 5 6 7 8 9 \n",
      "0 2 4 6 8 10 12 14 16 18 \n",
      "0 3 6 9 12 15 18 21 24 27 \n",
      "0 4 8 12 16 20 24 28 32 36 \n",
      "0 5 10 15 20 25 30 35 40 45 \n",
      "0 6 12 18 24 30 36 42 48 54 \n",
      "0 7 14 21 28 35 42 49 56 63 \n",
      "0 8 16 24 32 40 48 56 64 72 \n",
      "0 9 18 27 36 45 54 63 72 81 \n"
     ]
    }
   ],
   "source": [
    "string = ''\n",
    "for i in range(10):\n",
    "    string = ''\n",
    "    for j in range(10):\n",
    "        value = i * j\n",
    "        string = string + str(value) + ' '\n",
    "    print(string)"
   ]
  },
  {
   "cell_type": "code",
   "execution_count": 9,
   "metadata": {},
   "outputs": [
    {
     "name": "stdout",
     "output_type": "stream",
     "text": [
      "[[-14  10  10   6   3  11  17   8   5  -3]\n",
      " [ -5   0 -14   7  -9  -1   2   2  -8  -5]\n",
      " [ -3  -7  15   0   0  12  -9  -1  -4  -7]\n",
      " [ -6 -15 -11  11   9   1  -1 -14   7  -7]\n",
      " [  3  -6  -5  -4   8  10  -1  -3   2 -15]\n",
      " [  5  17  10  -6 -10  14 -19 -12   1  -5]\n",
      " [ 11  -6   2  16  11  -3   1  12   5 -14]\n",
      " [  9 -10  -1  18  -4 -17  -5 -13  11  -9]\n",
      " [ -8   4  -1 -16 -10   1 -11   4  15   6]\n",
      " [  7  11  -8   8   0   4   1  -7  -4   6]]\n"
     ]
    }
   ],
   "source": [
    "from numpy import *\n",
    "import numpy as np\n",
    "\n",
    "M = np.random.randint(0,20,size=(10,10))\n",
    "N = np.random.randint(0,20,size=(10,10))\n",
    "\n",
    "C = M - N\n",
    "print(C)"
   ]
  },
  {
   "cell_type": "code",
   "execution_count": null,
   "metadata": {},
   "outputs": [],
   "source": []
  }
 ],
 "metadata": {
  "kernelspec": {
   "display_name": "Python 3",
   "language": "python",
   "name": "python3"
  },
  "language_info": {
   "codemirror_mode": {
    "name": "ipython",
    "version": 3
   },
   "file_extension": ".py",
   "mimetype": "text/x-python",
   "name": "python",
   "nbconvert_exporter": "python",
   "pygments_lexer": "ipython3",
   "version": "3.6.5"
  }
 },
 "nbformat": 4,
 "nbformat_minor": 2
}
